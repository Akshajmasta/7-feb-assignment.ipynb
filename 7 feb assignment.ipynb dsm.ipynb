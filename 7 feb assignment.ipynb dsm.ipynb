{
 "cells": [
  {
   "cell_type": "markdown",
   "id": "40f7fa41-7d2b-45b8-8f90-bc0c0bb63e9c",
   "metadata": {},
   "source": [
    "ANSWER 1"
   ]
  },
  {
   "cell_type": "markdown",
   "id": "f831c096-6638-40f0-8414-d0b0d1e84e07",
   "metadata": {},
   "source": [
    "password = input(\"Create your new password : \")\n",
    "# password = \"OZWQQca514!@#\"\n",
    "def pass_verify(check):\n",
    "    upper_case = lower_case = numbers = special_char = ''\n",
    "    for i in password:\n",
    "        if 64<ord(i)<91:upper_case += i\n",
    "        elif 96<ord(i)<123:lower_case += i\n",
    "        elif 48<ord(i)<58:numbers += i\n",
    "        elif 32<ord(i)<48 or 58<ord(i)<65 or 91<ord(i)<97 or ord(i)>122:special_char +=i\n",
    "        else:pass\n",
    "    if len(upper_case) >= 2 and len(lower_case) >= 2 and len(numbers) >= 1 and len(special_char) >=3 and len(password) >= 10:\n",
    "        print('Valid Password')\n",
    "    else:\n",
    "        print('Invalid Password')\n",
    "pass_verify(password)\n",
    "# len(password)"
   ]
  },
  {
   "cell_type": "markdown",
   "id": "a76eb1c4-1202-45ab-8edf-2a131ef0e71c",
   "metadata": {},
   "source": [
    "ANSWER 2"
   ]
  },
  {
   "cell_type": "markdown",
   "id": "701482e2-e843-4dec-8662-92c55e65fd5c",
   "metadata": {},
   "source": [
    "Check if the string starts with a particular letter:"
   ]
  },
  {
   "cell_type": "code",
   "execution_count": null,
   "id": "72a3bde2-6d93-4f25-bd7f-c160bbe5515a",
   "metadata": {},
   "outputs": [],
   "source": [
    "strings = [\"apple\", \"banana\", \"cherry\", \"durian\"]\n",
    "letter = \"a\"\n",
    "\n",
    "result = list(filter(lambda s: s.startswith(letter), strings))\n",
    "print(result)  # output: [\"apple\"]\n"
   ]
  },
  {
   "cell_type": "markdown",
   "id": "250286a1-6a72-4f02-b0ef-591aa64d4585",
   "metadata": {},
   "source": [
    "2. Check if the string is numeric."
   ]
  },
  {
   "cell_type": "code",
   "execution_count": null,
   "id": "f28845f6-3889-4f3a-8723-8e16b52a7d36",
   "metadata": {},
   "outputs": [],
   "source": [
    "strings = [\"123\", \"1.23\", \"abc\"]\n",
    "\n",
    "result = list(filter(lambda s: s.isnumeric(), strings))\n",
    "print(result)  # output: [\"123\"]\n"
   ]
  },
  {
   "cell_type": "markdown",
   "id": "5e5e625b-7eda-4a64-b704-5305a865913e",
   "metadata": {},
   "source": [
    "Sort a list of tuples having fruit names and their quantity:"
   ]
  },
  {
   "cell_type": "code",
   "execution_count": null,
   "id": "0d9c56b2-bb70-4f53-b821-b9be4bfc50d6",
   "metadata": {},
   "outputs": [],
   "source": [
    "fruits = [(\"mango\", 99), (\"orange\", 80), (\"grapes\", 1000)]\n",
    "\n",
    "sorted_fruits = sorted(fruits, key=lambda f: f[1])\n",
    "print(sorted_fruits)  # output: [(\"orange\", 80), (\"mango\", 99), (\"grapes\", 1000)]\n"
   ]
  },
  {
   "cell_type": "markdown",
   "id": "d50881d8-bb9c-4312-bb7d-160d46d8fd39",
   "metadata": {},
   "source": [
    "Find the squares of numbers from 1 to 10:"
   ]
  },
  {
   "cell_type": "markdown",
   "id": "6f2cf90f-68c5-449a-bbf4-daf4012084a9",
   "metadata": {},
   "source": [
    "squares = [x*x for x in range(1, 11)]\n",
    "print(squares)  # output: [1, 4, 9, 16, 25, 36, 49, 64, 81, 100]\n"
   ]
  },
  {
   "cell_type": "code",
   "execution_count": null,
   "id": "7ca1b20f-bd2c-48eb-925a-5db85286cc5f",
   "metadata": {},
   "outputs": [],
   "source": [
    "Find the cube root of numbers from 1 to 10:\n"
   ]
  },
  {
   "cell_type": "code",
   "execution_count": null,
   "id": "eedabe1a-269d-4433-9335-1336c838175e",
   "metadata": {},
   "outputs": [],
   "source": [
    "import math\n",
    "\n",
    "cube_roots = [math.pow(x, 1/3) for x in range(1, 11)]\n",
    "print(cube_roots)  # output: [1.0, 1.2599210498948732, 1.4422495703074083, 1.5874010519681994, 1.7099759466766968, 1.8171205928321397, 1.912931182772389, 2.0, 2.080083823051904, 2.154434690031884]\n"
   ]
  },
  {
   "cell_type": "markdown",
   "id": "e5e073ed-abdd-46c0-93c6-aa7b0f584a65",
   "metadata": {},
   "source": [
    "Check if a given number is even:"
   ]
  },
  {
   "cell_type": "code",
   "execution_count": null,
   "id": "56fa86e7-2406-497d-8198-a718c09b827f",
   "metadata": {},
   "outputs": [],
   "source": [
    "number = 5\n",
    "\n",
    "result = \"even\" if number % 2 == 0 else \"odd\"\n",
    "print(result)  # output: \"odd\"\n"
   ]
  },
  {
   "cell_type": "markdown",
   "id": "2cd097e9-1246-4060-ac13-99eb97ff9768",
   "metadata": {},
   "source": [
    "Filter odd numbers from the given list:"
   ]
  },
  {
   "cell_type": "code",
   "execution_count": null,
   "id": "9e98d0b7-0db1-4f19-8409-65c01b91eedf",
   "metadata": {},
   "outputs": [],
   "source": [
    "numbers = [1, 2, 3, 4, 5, 6, 7, 8, 9, 10]\n",
    "\n",
    "result = list(filter(lambda n: n % 2 == 1, numbers))\n",
    "print(result)  # output: [1, 3, 5, 7, 9]\n"
   ]
  },
  {
   "cell_type": "code",
   "execution_count": null,
   "id": "42bab737-decc-4af7-92c8-5a9eb607c0fe",
   "metadata": {},
   "outputs": [],
   "source": []
  }
 ],
 "metadata": {
  "kernelspec": {
   "display_name": "Python 3 (ipykernel)",
   "language": "python",
   "name": "python3"
  },
  "language_info": {
   "codemirror_mode": {
    "name": "ipython",
    "version": 3
   },
   "file_extension": ".py",
   "mimetype": "text/x-python",
   "name": "python",
   "nbconvert_exporter": "python",
   "pygments_lexer": "ipython3",
   "version": "3.10.8"
  }
 },
 "nbformat": 4,
 "nbformat_minor": 5
}
